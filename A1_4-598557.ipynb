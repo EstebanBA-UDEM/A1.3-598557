{
 "cells": [
  {
   "cell_type": "markdown",
   "metadata": {},
   "source": [
    "A1.4 Seleccion de caracteristicas\n",
    "Jesus Esteban Bustamante Apodaca\n",
    "\n",
    "I) Importa los datos del archivo “Vino Tinto.csv” a tu ambiente de trabajo. Este archivo lo\n",
    "encontrarás en la misma página donde descargaste esta plantilla. Revisa las dimensiones\n",
    "del data frame e imprime en consola tanto dichas dimensiones como las primeras 5 filas\n",
    "de datos."
   ]
  },
  {
   "cell_type": "code",
   "execution_count": 2,
   "metadata": {},
   "outputs": [
    {
     "name": "stdout",
     "output_type": "stream",
     "text": [
      "Dimensiones del Data Frame:  (1599, 12)\n",
      "Primeras 5 filas: \n",
      "   acidezFija  acidezVolatil  acidoCitrico  azucarResidual  cloruros  \\\n",
      "0         7.4           0.70          0.00             1.9     0.076   \n",
      "1         7.8           0.88          0.00             2.6     0.098   \n",
      "2         7.8           0.76          0.04             2.3     0.092   \n",
      "3        11.2           0.28          0.56             1.9     0.075   \n",
      "4         7.4           0.70          0.00             1.9     0.076   \n",
      "\n",
      "   dioxidoAzufreLibre  dioxidoAzufreTotal  densidad    pH  sulfatos  alcohol  \\\n",
      "0                11.0                34.0    0.9978  3.51      0.56      9.4   \n",
      "1                25.0                67.0    0.9968  3.20      0.68      9.8   \n",
      "2                15.0                54.0    0.9970  3.26      0.65      9.8   \n",
      "3                17.0                60.0    0.9980  3.16      0.58      9.8   \n",
      "4                11.0                34.0    0.9978  3.51      0.56      9.4   \n",
      "\n",
      "   calidad  \n",
      "0        5  \n",
      "1        5  \n",
      "2        5  \n",
      "3        6  \n",
      "4        5  \n"
     ]
    }
   ],
   "source": [
    "import pandas as pd\n",
    "import numpy as np\n",
    "\n",
    "ds = pd.read_csv(\"A1.4 Vino Tinto.csv\")\n",
    "print(\"Dimensiones del Data Frame: \", ds.shape)\n",
    "print(\"Primeras 5 filas: \")\n",
    "print(ds.head(5))\n"
   ]
  },
  {
   "cell_type": "markdown",
   "metadata": {},
   "source": [
    "II) Separa el data frame en datos de entrenamiento y datos de prueba con una proporción\n",
    "80/20. Es decir, el 80% de los datos se usarán para entrenar el modelo y el resto para\n",
    "validar sus resultados. Asegúrate que la partición sea aleatoria, no es una buena práctica\n",
    "simplemente tomar las primeras observaciones para entrenar y las últimas para probar.\n",
    "Imprime en pantalla las dimensiones de ambos conjuntos de datos. Revisa y asegúrate\n",
    "que la cantidad de observaciones de ambos conjuntos de datos sumen a la cantidad de\n",
    "datos original."
   ]
  },
  {
   "cell_type": "code",
   "execution_count": 3,
   "metadata": {},
   "outputs": [
    {
     "name": "stdout",
     "output_type": "stream",
     "text": [
      "Dimensiones de entrenamiento: (1279, 12)\n",
      "Dimensiones de prueba: (320, 12)\n",
      "Total de observaciones: 1599\n",
      "Suma de entrenamiento y prueba: 1599\n"
     ]
    }
   ],
   "source": [
    "from sklearn.model_selection import train_test_split\n",
    "ds_entrenamiento, ds_prueba = train_test_split(ds, test_size=0.2, random_state=42)\n",
    "print(\"Dimensiones de entrenamiento:\", ds_entrenamiento.shape)\n",
    "print(\"Dimensiones de prueba:\", ds_prueba.shape)\n",
    "print(\"Total de observaciones:\", len(ds))\n",
    "print(\"Suma de entrenamiento y prueba:\", len(ds_entrenamiento) + len(ds_prueba))"
   ]
  },
  {
   "cell_type": "markdown",
   "metadata": {},
   "source": [
    "III) Genera la metodología de selección hacia adelante e imprime en consola los índices o\n",
    "los nombres de las características seleccionadas. Para realizar este proceso, te\n",
    "SC3314 – Inteligencia Artificial Universidad de Monterrey Dr. Antonio Martínez Torteya\n",
    "recomiendo que utilices la función “SequentialFeatureSelector” de la librería\n",
    "“mlxtend.feature_selection”, en este enlace encontrarás más información sobre la misma.\n",
    "Lo más probable es que cuando hayas descargado Anaconda, esta librería no se haya\n",
    "incluido en la distribución, por lo que deberás instalarla manualmente; al final de las\n",
    "instrucciones de la actividad te indico cómo hacerlo. Aquí te dejo una descripción de los\n",
    "parámetros que te recomiendo usar:\n",
    "\n",
    "a. estimator. Un modelo de regresión lineal. Te recomiendo usar la función LinearRegression de la librería sklearn.linear_model.\n",
    "\n",
    "b. k_features. Se puede seleccionar la cantidad de variables de salida que se desean, pero te recomiendo mejor usar un rango, y que el algoritmo determine el número adecuado. Por ejemplo, puedes definir el parámetro como (2,8), si te interesa que el método seleccione entre 2 y 8 variables.\n",
    "\n",
    "c. forward. Determina si se hace selección hacia adelante (True) o hacia atrás (False); en este caso queremos hacer selección hacia adelante.\n",
    "\n",
    "d. scoring. La métrica que se usará para determinar si un modelo es mejor que otro,te recomiendo definirla como ‘r2’ para usar la R cuadrada.\n",
    "\n",
    "e. cv. Si se desea realizar validación cruzada, y cuántas instancias de la misma. Terecomiendo definir este parámetro como 10."
   ]
  },
  {
   "cell_type": "code",
   "execution_count": null,
   "metadata": {},
   "outputs": [
    {
     "name": "stdout",
     "output_type": "stream",
     "text": [
      "Características seleccionadas: ['acidezVolatil', 'cloruros', 'dioxidoAzufreLibre', 'dioxidoAzufreTotal', 'pH', 'sulfatos', 'alcohol']\n"
     ]
    }
   ],
   "source": [
    "from mlxtend.feature_selection import SequentialFeatureSelector as SFS\n",
    "from sklearn.linear_model import LinearRegression\n",
    "# Separar las variables independientes y la variable dependiente\n",
    "# Todas las columnas excepto la de calidad son las independientes, y calidad seria la dependiente pues esta seria la variable de salida\n",
    "x = ds.drop('calidad', axis=1)\n",
    "y = ds['calidad']\n",
    "\n",
    "modelo = LinearRegression()\n",
    "sfs = SFS(modelo, k_features=(2,8), forward=True,scoring='r2',cv=10)\n",
    "\n",
    "sfs.fit(x, y)\n",
    "selected_features = list(sfs.k_feature_names_)\n",
    "print(\"Características seleccionadas (Nombres):\", selected_features)"
   ]
  },
  {
   "cell_type": "markdown",
   "metadata": {},
   "source": [
    "IV) Entrenar un modelo que solamente contenga las variables seleccionadas, predecir la\n",
    "respuesta en las observaciones de prueba y medir la capacidad de predicción del modelo\n",
    "usando la R cuadrada, imprimiendo dicho valor en consola. Para el primer paso,\n",
    "simplemente necesitas usar la función fit en el modelo de regresión lineal creado\n",
    "previamente, asegurándote de no introducir toda la información de X, sino solo de las\n",
    "variables seleccionadas. Para realizar las predicciones, puedes usar la función predict en\n",
    "los datos de prueba, pero recuerda para dichos datos también seleccionar solo las\n",
    "variables de interés. Para el último paso, te recomiendo usar la función r2_score de\n",
    "sklearn.metrics."
   ]
  },
  {
   "cell_type": "code",
   "execution_count": 5,
   "metadata": {},
   "outputs": [
    {
     "name": "stdout",
     "output_type": "stream",
     "text": [
      "R cuadrada en el conjunto de prueba: 0.4012628835440285\n"
     ]
    }
   ],
   "source": [
    "from sklearn.metrics import r2_score\n",
    "\n",
    "X_entrenamiento, X_prueba, y_entrenamiento, y_prueba = train_test_split(x, y, test_size=0.2, random_state=42)\n",
    "X_entrenamiento_seleccionado = X_entrenamiento[selected_features]\n",
    "X_prueba_seleccionado = X_prueba[selected_features]\n",
    "\n",
    "modelo.fit(X_entrenamiento_seleccionado,y_entrenamiento)\n",
    "y_prediccion = modelo.predict(X_prueba_seleccionado)\n",
    "r2 = r2_score(y_prueba,y_prediccion)\n",
    "print(\"R cuadrada en el conjunto de prueba:\", r2)"
   ]
  },
  {
   "cell_type": "markdown",
   "metadata": {},
   "source": [
    "V) Realizar un proceso de selección hacia atrás a partir de las variables seleccionadas por\n",
    "el método de selección hacia adelante e imprimir en consola los índices o nombres de las\n",
    "variables seleccionadas. Para realizar este proceso, te recomiendo usar la misma función\n",
    "del paso 3, pero definiendo ahora forward=False. También te recomiendo especificar una\n",
    "menor cantidad de variables posibles, por ejemplo: k_features=(2,5)."
   ]
  },
  {
   "cell_type": "code",
   "execution_count": null,
   "metadata": {},
   "outputs": [
    {
     "name": "stdout",
     "output_type": "stream",
     "text": [
      "Características seleccionadas - Selección hacia atrás: ['acidezVolatil', 'cloruros', 'dioxidoAzufreTotal', 'sulfatos', 'alcohol']\n"
     ]
    }
   ],
   "source": [
    "sbs = SFS(modelo, k_features=(2, 5), forward=False, floating=False, scoring='r2', cv=10)\n",
    "sbs = sbs.fit(X_entrenamiento_seleccionado,y_entrenamiento)\n",
    "\n",
    "sbs_selected_features = list(sbs.k_feature_names_)\n",
    "print('Características seleccionadas (Nombres) - Selección hacia atrás:', sbs_selected_features)"
   ]
  },
  {
   "cell_type": "markdown",
   "metadata": {},
   "source": [
    "VI) Repetir el paso 4, pero para un modelo que contenga solamente las variables\n",
    "seleccionadas en el paso 5. Imprime en pantalla un breve texto que describa tu opinión\n",
    "sobre la diferencia en R cuadrada medida entre los modelos de los pasos 4 y 6, ¿cuál\n",
    "modelo consideras que es mejor? ¿Por qué?"
   ]
  },
  {
   "cell_type": "code",
   "execution_count": 8,
   "metadata": {},
   "outputs": [
    {
     "name": "stdout",
     "output_type": "stream",
     "text": [
      "R cuadrada en el conjunto de prueba (Selección hacia atrás): 0.3958889666765396\n"
     ]
    }
   ],
   "source": [
    "X_entrenamiento_seleccionado_sbs = X_entrenamiento[sbs_selected_features]\n",
    "X_prueba_seleccionado_sbs = X_prueba[sbs_selected_features]\n",
    "\n",
    "modelo.fit(X_entrenamiento_seleccionado_sbs, y_entrenamiento)\n",
    "y_prediccion_sbs = modelo.predict(X_prueba_seleccionado_sbs)\n",
    "r2_sbs = r2_score(y_prueba, y_prediccion_sbs)\n",
    "print(\"R cuadrada en el conjunto de prueba (Selección hacia atrás):\", r2_sbs)"
   ]
  },
  {
   "cell_type": "markdown",
   "metadata": {},
   "source": [
    "Considerando los resultados en las R^2 de la seleccion hacia adelante y hacia atras, los resultados mostraron que la R cuadrada de la seleccion hacia adelante es mayor al de hacia atras, por lo que indica que es mejor en la predicción de la calidad del vino. Esto se debe a que una R cuadrada más alta implica una mayor capacidad del modelo para explicar la variabilidad de la calidad del vino."
   ]
  }
 ],
 "metadata": {
  "kernelspec": {
   "display_name": "Python 3",
   "language": "python",
   "name": "python3"
  },
  "language_info": {
   "codemirror_mode": {
    "name": "ipython",
    "version": 3
   },
   "file_extension": ".py",
   "mimetype": "text/x-python",
   "name": "python",
   "nbconvert_exporter": "python",
   "pygments_lexer": "ipython3",
   "version": "3.13.1"
  }
 },
 "nbformat": 4,
 "nbformat_minor": 2
}
